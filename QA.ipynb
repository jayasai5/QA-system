{
 "cells": [
  {
   "cell_type": "markdown",
   "metadata": {},
   "source": [
    "<b>Authors:</b> Jaya Sai Amirineni(783115) & Akshat Gupta(893717)<br>\n",
    "<b>Python version:</b> 3<br>\n",
    "<b>Requirements :</b> keras, tensorflow-gpu, scikit-learn and vectormap of pre-trained glove vectors of 6 billion words (dimensions=100) <br>\n",
    "<b>Training time :</b> 3 hours approx(on nvidia GTX 1050 gpu)"
   ]
  },
  {
   "cell_type": "markdown",
   "metadata": {},
   "source": [
    "We have used Bidirectional Attention Flow(BiDAF) mechanism to implement the Question Answering system for the given datasets using keras with tensorflow backend. We input the paragraph word vectors and question word vectors into two different Bidirectional Gated recurrent units(GRU) which encode the sequence data into fixed size vectors. Now we use the encoded paragraph and question vectors to calculate the attention from question to paragraph and paragraph to question using the attention layer. The output from the attention layer is then passed through another bidirectional GRU and finally give the start and end spans using a Dense layer connected to both modelling layer and attention layer. We also used Tfidf to get the relevent paragraph for the given question from a list of paragraphs"
   ]
  },
  {
   "cell_type": "markdown",
   "metadata": {},
   "source": [
    "Importing all necessary packages for processing"
   ]
  },
  {
   "cell_type": "code",
   "execution_count": 94,
   "metadata": {},
   "outputs": [],
   "source": [
    "import json,random,re,pickle,csv\n",
    "import numpy as np\n",
    "from keras import backend as K\n",
    "from keras.utils import Sequence\n",
    "from keras.models import Model,load_model\n",
    "from keras.layers import Input, InputLayer,Dropout,CuDNNLSTM,CuDNNGRU\n",
    "from keras.layers.merge import Concatenate\n",
    "from keras.engine.topology import Layer\n",
    "import tensorflow as tf\n",
    "from sklearn.feature_extraction.text import TfidfVectorizer\n",
    "from sklearn.metrics.pairwise import linear_kernel\n",
    "from nltk.corpus import wordnet,stopwords\n",
    "from nltk.stem.lancaster import LancasterStemmer as ls\n",
    "from matplotlib import pyplot as plt\n",
    "from keras.callbacks import History,ModelCheckpoint\n",
    "from nltk.tokenize import word_tokenize\n",
    "from nltk.tokenize.moses import MosesDetokenizer\n",
    "from keras.utils import plot_model\n",
    "from pylab import figure,axes"
   ]
  },
  {
   "cell_type": "markdown",
   "metadata": {},
   "source": [
    "Load the training, development, and testing datasets into memory (skip this step if loading from pickled dataset objects)"
   ]
  },
  {
   "cell_type": "code",
   "execution_count": 103,
   "metadata": {},
   "outputs": [],
   "source": [
    "documents = {}\n",
    "with open('documents.json') as f:\n",
    "    docs = json.load(f)\n",
    "for doc in docs:\n",
    "    documents[doc['docid']] = doc['text']\n",
    "with open('training.json') as f:\n",
    "    training_set = json.load(f)\n",
    "with open('devel.json') as f:\n",
    "    development_set = json.load(f)\n",
    "with open('testing.json') as f:\n",
    "    testing_set = json.load(f)\n",
    "vector_map = {}\n",
    "with open('glove.6B.100d.txt',encoding='UTF-8') as f:\n",
    "    for line in f:\n",
    "        word,vector = tuple(line.split(\" \",1))\n",
    "        vector_map[word] = np.fromstring(vector,sep=\" \")"
   ]
  },
  {
   "cell_type": "markdown",
   "metadata": {},
   "source": [
    "Necessary functions for preprocessing"
   ]
  },
  {
   "cell_type": "code",
   "execution_count": 13,
   "metadata": {},
   "outputs": [],
   "source": [
    "stop_words = stopwords.words('english')\n",
    "word_vectors = list(vector_map.values())\n",
    "vector_stack = np.vstack(word_vectors)\n",
    "variance = np.var(vector_stack,0)\n",
    "mean = np.mean(vector_stack,0)\n",
    "random_state = np.random.RandomState()\n",
    "def get_unk_vec(unk):\n",
    "    vector_map[unk] = random_state.multivariate_normal(mean,np.diag(variance))\n",
    "    return vector_map[unk]\n",
    "def get_paragraph_vector(paragraph):\n",
    "    puncts = ['\"',',','.','-',\"'\",'(',')','?',';',':','$','%','#','—','!','–','&','/','[',']','~','+','<','>']\n",
    "    digits = ['zero','one','two','three','four','five','six','seven','eight','nine']\n",
    "    i_digits = ['first','second','third','fourth','fifth','sixth','seventh','eighth','nineth']\n",
    "    paragraph = paragraph.replace('’',\"'\")\n",
    "    #paragraph = paragraph.replace('',\"'\")\n",
    "    paragraph = paragraph.replace('``','\"')\n",
    "    paragraph = paragraph.replace(\"''\",'\"')\n",
    "    paragraph = paragraph.replace('“','\"')\n",
    "    paragraph = paragraph.replace('”','\"')\n",
    "    for punct in puncts:\n",
    "        paragraph = paragraph.replace(punct,' '+punct+' ')\n",
    "    paragraph.replace(\" \",\" \")\n",
    "    paragraph = paragraph.replace('  ',' ')\n",
    "    tokens = paragraph.strip().lower().split(' ')\n",
    "    #tokens = word_tokenize(paragraph)\n",
    "    vecs = []\n",
    "    words = []\n",
    "    #print(paragraph)\n",
    "    for token in tokens:\n",
    "        token = re.sub(r\"(?<=\\d)(st|nd|rd|th)\\b\", '', token)\n",
    "        if token in digits:\n",
    "            token = str(digits.index(token))\n",
    "        if token in i_digits:\n",
    "            token = str(i_digits.index(token)+1)\n",
    "        if token in vector_map:\n",
    "            vecs.append(vector_map[token])\n",
    "            words.append(token)\n",
    "        else:\n",
    "            vecs.append(get_unk_vec(token))\n",
    "            words.append(token)\n",
    "    return words,vecs\n",
    "def get_span(context,answer):\n",
    "    spans = []\n",
    "    l = len(answer)\n",
    "    cl = len(context)\n",
    "    stop_idx = cl-l\n",
    "    st = ls()\n",
    "    for index,token in enumerate(context):\n",
    "        if index > stop_idx:\n",
    "            break\n",
    "        if token == answer[0]:\n",
    "            i = index\n",
    "            found = True\n",
    "            for a_token in answer:\n",
    "                if a_token!=context[i] and st.stem(a_token)!=st.stem(context[i]):\n",
    "                    found = False\n",
    "                    break\n",
    "                i+=1\n",
    "            if found:\n",
    "                spans.append((index,index+l))   \n",
    "    if len(spans) == 0:\n",
    "        if l == 1:\n",
    "            for index,token in enumerate(context):\n",
    "                if st.stem(token) == st.stem(answer[0]):\n",
    "                    return (index,index) \n",
    "        #print(context,answer)\n",
    "        return (None,None)\n",
    "    elif len(spans) == 1:\n",
    "        return spans[0]\n",
    "    else:\n",
    "        r = random.randint(0,len(spans)-1)\n",
    "        return spans[r]\n",
    "def vectorize(documents,qas,test=False):\n",
    "    contexts = []\n",
    "    c_tokens = []\n",
    "    questions = []\n",
    "    starts = []\n",
    "    ends = []\n",
    "    for qa in qas:\n",
    "        if test:\n",
    "            context_tokens,context_vectors = get_paragraph_vector(documents[qa['docid']][get_relevent_paragraph(documents[qa['docid']],qa['question'])])\n",
    "        else:\n",
    "            context_tokens,context_vectors = get_paragraph_vector(documents[qa['docid']][qa['answer_paragraph']])\n",
    "        _,question_vectors = get_paragraph_vector(qa['question'])\n",
    "        if not test:\n",
    "            answer_tokens, _ = get_paragraph_vector(qa['text'])\n",
    "            start,end = get_span(context_tokens,answer_tokens)\n",
    "            starts.append(start)\n",
    "            ends.append(end)\n",
    "        contexts.append(context_vectors)\n",
    "        c_tokens.append(context_tokens)\n",
    "        questions.append(question_vectors)\n",
    "    data = (contexts,questions,starts,ends,c_tokens)\n",
    "    return data\n",
    "def get_relevent_paragraph(document,question):\n",
    "    vectorizer = TfidfVectorizer(stop_words=stop_words)\n",
    "    tfidf = vectorizer.fit_transform(document+[question])\n",
    "    cosine_similarities = linear_kernel(tfidf[-1:], tfidf[:-1]).flatten()\n",
    "    related_docs_indices = cosine_similarities.argsort()[:-4:-1]\n",
    "    return related_docs_indices[0]\n",
    "def pad_sequences(sequences, maxlen=None,dim=100, value=0.0,dtype='float32',padding='post', truncating='post'):\n",
    "    lengths = [len(s) for s in sequences]\n",
    "\n",
    "    nb_samples = len(sequences)\n",
    "    if maxlen is None:\n",
    "        maxlen = np.max(lengths)\n",
    "\n",
    "    x = (np.ones((nb_samples, maxlen, dim)) * value).astype(dtype)\n",
    "    for idx, s in enumerate(sequences):\n",
    "        if truncating == 'pre':\n",
    "            trunc = s[-maxlen:]\n",
    "        elif truncating == 'post':\n",
    "            trunc = s[:maxlen]\n",
    "        else:\n",
    "            raise ValueError(\"Truncating type '%s' not understood\" % padding)\n",
    "\n",
    "        if padding == 'post':\n",
    "            x[idx, :len(trunc)] = trunc\n",
    "        elif padding == 'pre':\n",
    "            x[idx, -len(trunc):] = trunc\n",
    "        else:\n",
    "            raise ValueError(\"Padding type '%s' not understood\" % padding)\n",
    "    return x\n",
    "def save_obj(obj, name ):\n",
    "    with open('obj/'+ name + '.pkl', 'wb+') as f:\n",
    "        pickle.dump(obj, f, pickle.HIGHEST_PROTOCOL)\n",
    "\n",
    "def load_obj(name ):\n",
    "    with open('obj/' + name + '.pkl', 'rb+') as f:\n",
    "        return pickle.load(f)"
   ]
  },
  {
   "cell_type": "markdown",
   "metadata": {},
   "source": [
    "Preprocessing the data(skip this step if loading from pickled objects)"
   ]
  },
  {
   "cell_type": "code",
   "execution_count": 4,
   "metadata": {},
   "outputs": [],
   "source": [
    "p_max = 400\n",
    "q_max = 100\n",
    "train_dataset = {}\n",
    "dev_dataset = {}\n",
    "test_dataset = {}\n",
    "train_dataset['train_ctx'],train_dataset['train_q'],train_dataset['train_start'],train_dataset['train_end'],train_dataset['train_tokens'] = vectorize(documents,training_set)\n",
    "dev_dataset['dev_ctx'],dev_dataset['dev_q'],dev_dataset['dev_start'],dev_dataset['dev_end'],dev_dataset['dev_tokens'] = vectorize(documents,development_set)\n",
    "test_dataset['test_ctx'],test_dataset['test_q'],_,_,test_dataset['test_tokens'] = vectorize(documents,testing_set,True)\n",
    "def get_span_array(arr,max_len):\n",
    "    l = len(arr)\n",
    "    x = np.zeros((l,max_len))\n",
    "    for idx,ele in enumerate(arr):\n",
    "        if ele is not None and ele<max_len:\n",
    "            x[idx][int(ele)] = 1\n",
    "    return x\n",
    "train_dataset['train_start'] = get_span_array(train_dataset['train_start'],p_max)\n",
    "dev_dataset['dev_start'] = get_span_array(dev_dataset['dev_start'],p_max)\n",
    "train_dataset['train_end'] = get_span_array(train_dataset['train_end'],p_max)\n",
    "dev_dataset['dev_end'] = get_span_array(dev_dataset['dev_end'],p_max)\n",
    "save_obj(train_dataset,'train')\n",
    "save_obj(dev_dataset,'dev')\n",
    "save_obj(test_dataset,'test')\n",
    "save_obj(vector_map,'vectors')"
   ]
  },
  {
   "cell_type": "markdown",
   "metadata": {},
   "source": [
    "Load pickled preprocessed data from storage (do not run if starting from scratch without pickle files)"
   ]
  },
  {
   "cell_type": "code",
   "execution_count": 2,
   "metadata": {
    "scrolled": true
   },
   "outputs": [],
   "source": [
    "def save_obj(obj, name ):\n",
    "    with open('obj/'+ name + '.pkl', 'wb+') as f:\n",
    "        pickle.dump(obj, f, pickle.HIGHEST_PROTOCOL)\n",
    "\n",
    "def load_obj(name ):\n",
    "    with open('obj/' + name + '.pkl', 'rb+') as f:\n",
    "        return pickle.load(f)\n",
    "test_dataset = load_obj('test')\n",
    "train_dataset = load_obj('train')\n",
    "dev_dataset = load_obj('dev')\n",
    "vector_map = load_obj('vectors')"
   ]
  },
  {
   "cell_type": "markdown",
   "metadata": {},
   "source": [
    "batch generator for training the neural network by dynamically loading the data into memory to avoid out of memory errors "
   ]
  },
  {
   "cell_type": "code",
   "execution_count": 3,
   "metadata": {},
   "outputs": [],
   "source": [
    "class DataGenerator(Sequence):\n",
    "    'Generates data for Keras'\n",
    "    def __init__(self, ctx, q, start, end,p_max=500,q_max=100 ,batch_size=100):\n",
    "        'Initialization'\n",
    "        self.batch_size = batch_size\n",
    "        self.ctx = ctx\n",
    "        self.q = q\n",
    "        self.start = start\n",
    "        self.end = end\n",
    "\n",
    "    def __len__(self):\n",
    "        'Denotes the number of batches per epoch'\n",
    "        return int(np.floor(len(self.ctx) / self.batch_size))\n",
    "\n",
    "    def __getitem__(self, index):\n",
    "        'Generate one batch of data'\n",
    "        # Generate indexes of the batch\n",
    "        if ((index+1)*self.batch_size)<len(self.ctx):\n",
    "            indexes = [index*self.batch_size,(index+1)*self.batch_size]\n",
    "        else:\n",
    "            indexes = [index*self.batch_size,len(self.ctx)]\n",
    "\n",
    "        # Find list of IDs\n",
    "        ctx_temp = self.pad_sequences(self.ctx[indexes[0]:indexes[1]],maxlen = p_max)\n",
    "        q_temp = self.pad_sequences(self.q[indexes[0]:indexes[1]],maxlen = q_max)\n",
    "        # Generate data\n",
    "        X, Y = [ctx_temp,q_temp],[self.start[indexes[0]:indexes[1]],self.end[indexes[0]:indexes[1]]]\n",
    "        return X, Y\n",
    "    def pad_sequences(self, sequences, maxlen=None,dim=100, value=0.0,dtype='float32',padding='post', truncating='post'):\n",
    "        lengths = [len(s) for s in sequences]\n",
    "\n",
    "        nb_samples = len(sequences)\n",
    "        if maxlen is None:\n",
    "            maxlen = np.max(lengths)\n",
    "\n",
    "        x = (np.ones((nb_samples, maxlen, dim)) * value).astype(dtype)\n",
    "        for idx, s in enumerate(sequences):\n",
    "            if truncating == 'pre':\n",
    "                trunc = s[-maxlen:]\n",
    "            elif truncating == 'post':\n",
    "                trunc = s[:maxlen]\n",
    "            else:\n",
    "                raise ValueError(\"Truncating type '%s' not understood\" % padding)\n",
    "\n",
    "            if padding == 'post':\n",
    "                x[idx, :len(trunc)] = trunc\n",
    "            elif padding == 'pre':\n",
    "                x[idx, -len(trunc):] = trunc\n",
    "            else:\n",
    "                raise ValueError(\"Padding type '%s' not understood\" % padding)\n",
    "        return x\n",
    "    "
   ]
  },
  {
   "cell_type": "markdown",
   "metadata": {},
   "source": [
    "Custom layers implemented for handling Attention flow and giving output predictions"
   ]
  },
  {
   "cell_type": "code",
   "execution_count": 4,
   "metadata": {},
   "outputs": [],
   "source": [
    "class BiDAF(Layer):\n",
    "\n",
    "    def __init__(self, hdim, max_len, **kwargs):\n",
    "        self.max_len = max_len\n",
    "        self.hdim = hdim\n",
    "        super(BiDAF, self).__init__(**kwargs)\n",
    "\n",
    "    def build(self, input_shape):\n",
    "        self.batch_size = input_shape[0][0]\n",
    "        self.w = self.add_weight(name='w', \n",
    "                                      shape=(2 * self.hdim, 2 * self.hdim),\n",
    "                                      initializer='uniform',\n",
    "                                      trainable=True)\n",
    "        super(BiDAF, self).build(input_shape)  # Be sure to call this at the end\n",
    "        \n",
    "    def similarity(self, p, q):\n",
    "        #print(self.batch_size)\n",
    "        w_tiled = K.tile(K.expand_dims(self.w, 0), [(K.shape(p))[0], 1, 1])\n",
    "        q_T = tf.transpose(q, [0, 2, 1]) \n",
    "        \n",
    "        S = tf.einsum('aij,ajk->aik', q_T, w_tiled)\n",
    "        S = tf.einsum('aij,ajk->aik', S, p)\n",
    "        return S\n",
    "    def call(self, x):\n",
    "        p = tf.transpose(x[0], [0, 2, 1])\n",
    "        q = tf.transpose(x[1], [0 ,2 ,1])\n",
    "        Similarity = self.similarity(p, q)\n",
    "        H = self.Q2C(p, q, Similarity)\n",
    "        U = self.C2Q(p, q, Similarity)\n",
    "        G = K.concatenate([p, H, p * U, p * H], 1)\n",
    "        G = tf.transpose(G, perm=[0, 2, 1])\n",
    "        return G\n",
    "    def C2Q(self, p, q, S):\n",
    "        a = K.softmax(S, axis=1) \n",
    "        U = tf.matmul(q,a)\n",
    "        return U\n",
    "    def Q2C(self, p, q, S):\n",
    "        b = K.softmax(tf.reduce_max(S, axis=1, keepdims=True))\n",
    "        h = tf.einsum('aij,akj->aik', p, b)\n",
    "        H = K.tile(h, [1, 1, self.max_len])\n",
    "        return H\n",
    "    def compute_output_shape(self, input_shape):\n",
    "        return (input_shape[0][0],self.max_len, 8*self.hdim)\n",
    "class OutputLayer(Layer):\n",
    "\n",
    "    def __init__(self, hdim, max_len, **kwargs):\n",
    "        self.hdim = hdim\n",
    "        self.max_len = max_len\n",
    "        super(OutputLayer, self).__init__(**kwargs)\n",
    "\n",
    "    def build(self, input_shape):\n",
    "        self.batch_size = input_shape[0][0]\n",
    "        self.w_1 = self.add_weight(name='w_start', \n",
    "                                      shape=(10 * self.hdim, 1),\n",
    "                                      initializer='uniform',\n",
    "                                      trainable=True)\n",
    "        self.w_2 = self.add_weight(name='w_end', \n",
    "                                      shape=(10 * self.hdim, 1),\n",
    "                                      initializer='uniform',\n",
    "                                      trainable=True)\n",
    "        super(OutputLayer, self).build(input_shape)  # Be sure to call this at the end\n",
    "\n",
    "    def call(self, x):\n",
    "        o1 = tf.concat([x[0], x[1]], 2) \n",
    "        o2 = tf.concat([x[0], x[1]], 2)\n",
    "        #o1 = K.nn.dropout(temp1, dropout)\n",
    "        #temp_2_o = tf.nn.dropout(temp2, dropout)\n",
    "        w_1_tiled = K.tile(K.expand_dims(self.w_1, 0), [(K.shape(x[0]))[0], 1, 1])\n",
    "        w_2_tiled = K.tile(K.expand_dims(self.w_2, 0), [(K.shape(x[0]))[0], 1, 1])\n",
    "        pred_s = tf.squeeze(tf.einsum('aij,ajk->aik',o1, w_1_tiled),axis=2) # (?, m, 10h) * (?, 10h, 1) -> (?, m, 1)\n",
    "        pred_e = tf.squeeze(tf.einsum('aij,ajk->aik',o2, w_2_tiled),axis=2) # (?, m, 10h) * (?, 10h, 1) -> (?, m, 1)\n",
    "        return [K.softmax(pred_s), K.softmax(pred_e)]   \n",
    "    def compute_output_shape(self, input_shape):\n",
    "        return [(input_shape[0][0], self.max_len),(input_shape[0][0], self.max_len)]"
   ]
  },
  {
   "cell_type": "markdown",
   "metadata": {},
   "source": [
    "Bidirectional attention flow model that we have implemented containing input layer,encoding layer, attention layer, modelling layer and output layer"
   ]
  },
  {
   "cell_type": "code",
   "execution_count": 16,
   "metadata": {},
   "outputs": [
    {
     "name": "stdout",
     "output_type": "stream",
     "text": [
      "__________________________________________________________________________________________________\n",
      "Layer (type)                    Output Shape         Param #     Connected to                     \n",
      "==================================================================================================\n",
      "input_3 (InputLayer)            (None, 400, 100)     0                                            \n",
      "__________________________________________________________________________________________________\n",
      "input_4 (InputLayer)            (None, 100, 100)     0                                            \n",
      "__________________________________________________________________________________________________\n",
      "cu_dnngru_7 (CuDNNGRU)          (None, 400, 128)     88320       input_3[0][0]                    \n",
      "__________________________________________________________________________________________________\n",
      "cu_dnngru_8 (CuDNNGRU)          (None, 400, 128)     88320       input_3[0][0]                    \n",
      "__________________________________________________________________________________________________\n",
      "cu_dnngru_9 (CuDNNGRU)          (None, 100, 128)     88320       input_4[0][0]                    \n",
      "__________________________________________________________________________________________________\n",
      "cu_dnngru_10 (CuDNNGRU)         (None, 100, 128)     88320       input_4[0][0]                    \n",
      "__________________________________________________________________________________________________\n",
      "concatenate_4 (Concatenate)     (None, 400, 256)     0           cu_dnngru_7[0][0]                \n",
      "                                                                 cu_dnngru_8[0][0]                \n",
      "__________________________________________________________________________________________________\n",
      "concatenate_5 (Concatenate)     (None, 100, 256)     0           cu_dnngru_9[0][0]                \n",
      "                                                                 cu_dnngru_10[0][0]               \n",
      "__________________________________________________________________________________________________\n",
      "bi_daf_2 (BiDAF)                (None, 400, 1024)    65536       concatenate_4[0][0]              \n",
      "                                                                 concatenate_5[0][0]              \n",
      "__________________________________________________________________________________________________\n",
      "cu_dnngru_11 (CuDNNGRU)         (None, 400, 128)     443136      bi_daf_2[0][0]                   \n",
      "__________________________________________________________________________________________________\n",
      "cu_dnngru_12 (CuDNNGRU)         (None, 400, 128)     443136      bi_daf_2[0][0]                   \n",
      "__________________________________________________________________________________________________\n",
      "concatenate_6 (Concatenate)     (None, 400, 256)     0           cu_dnngru_11[0][0]               \n",
      "                                                                 cu_dnngru_12[0][0]               \n",
      "__________________________________________________________________________________________________\n",
      "output_layer_2 (OutputLayer)    [(None, 400), (None, 2560        bi_daf_2[0][0]                   \n",
      "                                                                 concatenate_6[0][0]              \n",
      "==================================================================================================\n",
      "Total params: 1,307,648\n",
      "Trainable params: 1,307,648\n",
      "Non-trainable params: 0\n",
      "__________________________________________________________________________________________________\n"
     ]
    }
   ],
   "source": [
    "batch_size = 80\n",
    "dropout = 0.2\n",
    "GD = 100\n",
    "hdim = 128\n",
    "p_max = 400\n",
    "q_max = 100\n",
    "def BiGRU(layer):\n",
    "    forw = CuDNNGRU(hdim,return_sequences=True)(layer)\n",
    "    back = CuDNNGRU(hdim,return_sequences=True,go_backwards=True)(layer)\n",
    "    return Concatenate(2)([forw,back])\n",
    "paragraph = Input(shape=(p_max,GD),dtype='float32')\n",
    "question = Input(shape=(q_max,GD),dtype='float32')\n",
    "paragraph_encoder = BiGRU(paragraph)\n",
    "question_encoder = BiGRU(question)\n",
    "attention_layer = BiDAF(hdim=hdim,max_len=p_max)([paragraph_encoder,question_encoder])\n",
    "#dropout_layer = Dropout(dropout)(attention_layer)\n",
    "modeling_layer = BiGRU(attention_layer)\n",
    "#modeling_drop_out =  Dropout(dropout)(modeling_layer)\n",
    "spans = OutputLayer(hdim,p_max)([attention_layer,modeling_layer])\n",
    "model = Model(inputs=[paragraph,question],outputs=spans)\n",
    "model.compile(loss='mean_squared_logarithmic_error', optimizer='adam', metrics=['accuracy'])\n",
    "model.summary()\n",
    "history = History()\n",
    "checkpointer = ModelCheckpoint(\"model/weights.{epoch:02d}.h5\",monitor='val_acc',save_weights_only=True,period=1)\n",
    "plot_model(model, to_file='model.png')"
   ]
  },
  {
   "cell_type": "markdown",
   "metadata": {},
   "source": [
    "Run the neural network training "
   ]
  },
  {
   "cell_type": "code",
   "execution_count": 17,
   "metadata": {},
   "outputs": [
    {
     "name": "stdout",
     "output_type": "stream",
     "text": [
      "Epoch 1/30\n",
      "542/542 [==============================] - 302s 558ms/step - loss: 0.0023 - output_layer_2_loss: 0.0012 - output_layer_2_acc: 0.0869 - output_layer_2_acc_1: 0.0925 - val_loss: 0.0022 - val_output_layer_2_loss: 0.0011 - val_output_layer_2_acc: 0.1543 - val_output_layer_2_acc_1: 0.1615\n",
      "Epoch 2/30\n",
      "542/542 [==============================] - 297s 549ms/step - loss: 0.0021 - output_layer_2_loss: 0.0010 - output_layer_2_acc: 0.2024 - output_layer_2_acc_1: 0.2182 - val_loss: 0.0021 - val_output_layer_2_loss: 0.0010 - val_output_layer_2_acc: 0.1970 - val_output_layer_2_acc_1: 0.2184\n",
      "Epoch 3/30\n",
      "542/542 [==============================] - 300s 553ms/step - loss: 0.0020 - output_layer_2_loss: 0.0010 - output_layer_2_acc: 0.2438 - output_layer_2_acc_1: 0.2645 - val_loss: 0.0021 - val_output_layer_2_loss: 0.0010 - val_output_layer_2_acc: 0.2326 - val_output_layer_2_acc_1: 0.2497\n",
      "Epoch 4/30\n",
      "542/542 [==============================] - 310s 571ms/step - loss: 0.0020 - output_layer_2_loss: 9.7543e-04 - output_layer_2_acc: 0.2764 - output_layer_2_acc_1: 0.2994 - val_loss: 0.0020 - val_output_layer_2_loss: 0.0010 - val_output_layer_2_acc: 0.2543 - val_output_layer_2_acc_1: 0.2770\n",
      "Epoch 5/30\n",
      "542/542 [==============================] - 311s 574ms/step - loss: 0.0019 - output_layer_2_loss: 9.4685e-04 - output_layer_2_acc: 0.3063 - output_layer_2_acc_1: 0.3311 - val_loss: 0.0020 - val_output_layer_2_loss: 9.9685e-04 - val_output_layer_2_acc: 0.2727 - val_output_layer_2_acc_1: 0.2836\n",
      "Epoch 6/30\n",
      "542/542 [==============================] - 301s 555ms/step - loss: 0.0019 - output_layer_2_loss: 9.1721e-04 - output_layer_2_acc: 0.3325 - output_layer_2_acc_1: 0.3624 - val_loss: 0.0020 - val_output_layer_2_loss: 9.8219e-04 - val_output_layer_2_acc: 0.2865 - val_output_layer_2_acc_1: 0.3046\n",
      "Epoch 7/30\n",
      "542/542 [==============================] - 297s 548ms/step - loss: 0.0018 - output_layer_2_loss: 8.8604e-04 - output_layer_2_acc: 0.3615 - output_layer_2_acc_1: 0.3928 - val_loss: 0.0020 - val_output_layer_2_loss: 9.8019e-04 - val_output_layer_2_acc: 0.2842 - val_output_layer_2_acc_1: 0.3095\n",
      "Epoch 8/30\n",
      "542/542 [==============================] - 297s 549ms/step - loss: 0.0017 - output_layer_2_loss: 8.5224e-04 - output_layer_2_acc: 0.3893 - output_layer_2_acc_1: 0.4228 - val_loss: 0.0020 - val_output_layer_2_loss: 9.7518e-04 - val_output_layer_2_acc: 0.2967 - val_output_layer_2_acc_1: 0.3141\n",
      "Epoch 9/30\n",
      "542/542 [==============================] - 302s 557ms/step - loss: 0.0017 - output_layer_2_loss: 8.1527e-04 - output_layer_2_acc: 0.4167 - output_layer_2_acc_1: 0.4553 - val_loss: 0.0020 - val_output_layer_2_loss: 9.7389e-04 - val_output_layer_2_acc: 0.3036 - val_output_layer_2_acc_1: 0.3388\n",
      "Epoch 10/30\n",
      "542/542 [==============================] - 304s 562ms/step - loss: 0.0016 - output_layer_2_loss: 7.7810e-04 - output_layer_2_acc: 0.4487 - output_layer_2_acc_1: 0.4861 - val_loss: 0.0020 - val_output_layer_2_loss: 9.9436e-04 - val_output_layer_2_acc: 0.3000 - val_output_layer_2_acc_1: 0.3283\n",
      "Epoch 11/30\n",
      "542/542 [==============================] - 305s 562ms/step - loss: 0.0015 - output_layer_2_loss: 7.3862e-04 - output_layer_2_acc: 0.4764 - output_layer_2_acc_1: 0.5162 - val_loss: 0.0020 - val_output_layer_2_loss: 0.0010 - val_output_layer_2_acc: 0.2977 - val_output_layer_2_acc_1: 0.3293\n",
      "Epoch 12/30\n",
      "542/542 [==============================] - 300s 554ms/step - loss: 0.0014 - output_layer_2_loss: 6.9930e-04 - output_layer_2_acc: 0.5066 - output_layer_2_acc_1: 0.5464 - val_loss: 0.0021 - val_output_layer_2_loss: 0.0010 - val_output_layer_2_acc: 0.3092 - val_output_layer_2_acc_1: 0.3309\n",
      "Epoch 13/30\n",
      "542/542 [==============================] - 307s 567ms/step - loss: 0.0014 - output_layer_2_loss: 6.5868e-04 - output_layer_2_acc: 0.5359 - output_layer_2_acc_1: 0.5775 - val_loss: 0.0021 - val_output_layer_2_loss: 0.0010 - val_output_layer_2_acc: 0.2957 - val_output_layer_2_acc_1: 0.3270\n",
      "Epoch 14/30\n",
      "542/542 [==============================] - 302s 557ms/step - loss: 0.0013 - output_layer_2_loss: 6.1835e-04 - output_layer_2_acc: 0.5628 - output_layer_2_acc_1: 0.6077 - val_loss: 0.0021 - val_output_layer_2_loss: 0.0011 - val_output_layer_2_acc: 0.3099 - val_output_layer_2_acc_1: 0.3260\n",
      "Epoch 15/30\n",
      "542/542 [==============================] - 302s 558ms/step - loss: 0.0012 - output_layer_2_loss: 5.8392e-04 - output_layer_2_acc: 0.5866 - output_layer_2_acc_1: 0.6301 - val_loss: 0.0022 - val_output_layer_2_loss: 0.0011 - val_output_layer_2_acc: 0.3013 - val_output_layer_2_acc_1: 0.3141\n",
      "Epoch 16/30\n",
      "542/542 [==============================] - 302s 557ms/step - loss: 0.0012 - output_layer_2_loss: 5.4751e-04 - output_layer_2_acc: 0.6132 - output_layer_2_acc_1: 0.6541 - val_loss: 0.0022 - val_output_layer_2_loss: 0.0011 - val_output_layer_2_acc: 0.3003 - val_output_layer_2_acc_1: 0.3161\n",
      "Epoch 17/30\n",
      "542/542 [==============================] - 298s 550ms/step - loss: 0.0011 - output_layer_2_loss: 5.1966e-04 - output_layer_2_acc: 0.6327 - output_layer_2_acc_1: 0.6723 - val_loss: 0.0022 - val_output_layer_2_loss: 0.0011 - val_output_layer_2_acc: 0.3026 - val_output_layer_2_acc_1: 0.3164\n",
      "Epoch 18/30\n",
      "542/542 [==============================] - 299s 551ms/step - loss: 0.0010 - output_layer_2_loss: 4.8968e-04 - output_layer_2_acc: 0.6520 - output_layer_2_acc_1: 0.6939 - val_loss: 0.0023 - val_output_layer_2_loss: 0.0011 - val_output_layer_2_acc: 0.2990 - val_output_layer_2_acc_1: 0.3197\n",
      "Epoch 19/30\n",
      "542/542 [==============================] - 296s 546ms/step - loss: 9.8651e-04 - output_layer_2_loss: 4.6422e-04 - output_layer_2_acc: 0.6698 - output_layer_2_acc_1: 0.7116 - val_loss: 0.0023 - val_output_layer_2_loss: 0.0011 - val_output_layer_2_acc: 0.2938 - val_output_layer_2_acc_1: 0.3059\n",
      "Epoch 20/30\n",
      "542/542 [==============================] - 303s 558ms/step - loss: 9.4100e-04 - output_layer_2_loss: 4.4223e-04 - output_layer_2_acc: 0.6849 - output_layer_2_acc_1: 0.7240 - val_loss: 0.0023 - val_output_layer_2_loss: 0.0012 - val_output_layer_2_acc: 0.2859 - val_output_layer_2_acc_1: 0.3066\n",
      "Epoch 21/30\n",
      "542/542 [==============================] - 296s 546ms/step - loss: 8.9423e-04 - output_layer_2_loss: 4.2010e-04 - output_layer_2_acc: 0.7013 - output_layer_2_acc_1: 0.7382 - val_loss: 0.0024 - val_output_layer_2_loss: 0.0012 - val_output_layer_2_acc: 0.2895 - val_output_layer_2_acc_1: 0.3036\n",
      "Epoch 22/30\n",
      "542/542 [==============================] - 306s 565ms/step - loss: 8.5621e-04 - output_layer_2_loss: 4.0146e-04 - output_layer_2_acc: 0.7134 - output_layer_2_acc_1: 0.7505 - val_loss: 0.0024 - val_output_layer_2_loss: 0.0012 - val_output_layer_2_acc: 0.2901 - val_output_layer_2_acc_1: 0.3102\n",
      "Epoch 23/30\n",
      "542/542 [==============================] - 309s 570ms/step - loss: 8.2282e-04 - output_layer_2_loss: 3.8535e-04 - output_layer_2_acc: 0.7257 - output_layer_2_acc_1: 0.7605 - val_loss: 0.0024 - val_output_layer_2_loss: 0.0012 - val_output_layer_2_acc: 0.2724 - val_output_layer_2_acc_1: 0.3033\n",
      "Epoch 24/30\n",
      "542/542 [==============================] - 308s 568ms/step - loss: 7.8784e-04 - output_layer_2_loss: 3.6861e-04 - output_layer_2_acc: 0.7359 - output_layer_2_acc_1: 0.7689 - val_loss: 0.0024 - val_output_layer_2_loss: 0.0012 - val_output_layer_2_acc: 0.2760 - val_output_layer_2_acc_1: 0.3016\n",
      "Epoch 25/30\n",
      "542/542 [==============================] - 300s 554ms/step - loss: 7.6358e-04 - output_layer_2_loss: 3.5654e-04 - output_layer_2_acc: 0.7441 - output_layer_2_acc_1: 0.7788 - val_loss: 0.0024 - val_output_layer_2_loss: 0.0012 - val_output_layer_2_acc: 0.2757 - val_output_layer_2_acc_1: 0.3059\n",
      "Epoch 26/30\n",
      "542/542 [==============================] - 305s 564ms/step - loss: 7.4641e-04 - output_layer_2_loss: 3.4902e-04 - output_layer_2_acc: 0.7497 - output_layer_2_acc_1: 0.7827 - val_loss: 0.0024 - val_output_layer_2_loss: 0.0012 - val_output_layer_2_acc: 0.2822 - val_output_layer_2_acc_1: 0.2938\n",
      "Epoch 27/30\n",
      "542/542 [==============================] - 306s 565ms/step - loss: 7.1047e-04 - output_layer_2_loss: 3.3041e-04 - output_layer_2_acc: 0.7600 - output_layer_2_acc_1: 0.7937 - val_loss: 0.0025 - val_output_layer_2_loss: 0.0012 - val_output_layer_2_acc: 0.2901 - val_output_layer_2_acc_1: 0.3000\n",
      "Epoch 28/30\n"
     ]
    },
    {
     "name": "stdout",
     "output_type": "stream",
     "text": [
      "542/542 [==============================] - 297s 548ms/step - loss: 6.8552e-04 - output_layer_2_loss: 3.1906e-04 - output_layer_2_acc: 0.7685 - output_layer_2_acc_1: 0.8014 - val_loss: 0.0025 - val_output_layer_2_loss: 0.0012 - val_output_layer_2_acc: 0.2839 - val_output_layer_2_acc_1: 0.3059\n",
      "Epoch 29/30\n",
      "542/542 [==============================] - 310s 572ms/step - loss: 6.8234e-04 - output_layer_2_loss: 3.1824e-04 - output_layer_2_acc: 0.7705 - output_layer_2_acc_1: 0.8013 - val_loss: 0.0025 - val_output_layer_2_loss: 0.0012 - val_output_layer_2_acc: 0.2928 - val_output_layer_2_acc_1: 0.3046\n",
      "Epoch 30/30\n",
      "542/542 [==============================] - 308s 569ms/step - loss: 6.5563e-04 - output_layer_2_loss: 3.0546e-04 - output_layer_2_acc: 0.7778 - output_layer_2_acc_1: 0.8087 - val_loss: 0.0024 - val_output_layer_2_loss: 0.0012 - val_output_layer_2_acc: 0.2786 - val_output_layer_2_acc_1: 0.3023\n"
     ]
    },
    {
     "data": {
      "text/plain": [
       "<keras.callbacks.History at 0x1a9110e80b8>"
      ]
     },
     "execution_count": 17,
     "metadata": {},
     "output_type": "execute_result"
    }
   ],
   "source": [
    "training_generator = DataGenerator(train_dataset['train_ctx'],train_dataset['train_q'],train_dataset['train_start'],train_dataset['train_end'],p_max=p_max,q_max=q_max ,batch_size=batch_size)\n",
    "validation_generator = DataGenerator(dev_dataset['dev_ctx'],dev_dataset['dev_q'],dev_dataset['dev_start'],dev_dataset['dev_end'],p_max=p_max,q_max=q_max ,batch_size=batch_size)\n",
    "model.fit_generator(generator=training_generator,\n",
    "                    validation_data=validation_generator,\n",
    "                    verbose = 1,\n",
    "                    epochs = 30,\n",
    "                    callbacks = [history,checkpointer])"
   ]
  },
  {
   "cell_type": "code",
   "execution_count": 99,
   "metadata": {
    "scrolled": true
   },
   "outputs": [],
   "source": [
    "model.load_weights('weights.01.h5')"
   ]
  },
  {
   "cell_type": "markdown",
   "metadata": {},
   "source": [
    "Answer Prediction"
   ]
  },
  {
   "cell_type": "code",
   "execution_count": null,
   "metadata": {},
   "outputs": [],
   "source": [
    "c = pad_sequences(test_dataset['test_ctx'],400)\n",
    "q = pad_sequences(test_dataset['test_q'],100)\n",
    "predictions = model.predict([c,q])\n",
    "starts = np.argmax(predictions[0],axis=1)\n",
    "ends = np.argmax(predictions[1],axis=1)\n",
    "answers = {}\n",
    "for idx,span in enumerate(zip(starts,ends)):\n",
    "    answer = ''\n",
    "    if span[0] > span[1] or span[1]>len(test_dataset['test_tokens'][idx]):\n",
    "        answers[idx] = \"None\"\n",
    "    else:\n",
    "        for i in range(span[1]-span[0]):\n",
    "            token = test_dataset['test_tokens'][idx][span[0]+i]\n",
    "            if token == ',' or token == '.':\n",
    "                answer = answer.strip()+token\n",
    "            else:\n",
    "                answer += token + \" \"\n",
    "        answers[idx] = answer.strip()\n",
    "with open('answers.csv','w+',newline='',encoding='utf-8') as f:\n",
    "    csvwriter = csv.writer(f, delimiter=',')\n",
    "    csvwriter.writerow(['id','answer'])\n",
    "    for key,value in answers.items():\n",
    "        csvwriter.writerow([str(key),str(value)])   "
   ]
  },
  {
   "cell_type": "markdown",
   "metadata": {},
   "source": [
    "For Error analysis"
   ]
  },
  {
   "cell_type": "code",
   "execution_count": 105,
   "metadata": {},
   "outputs": [],
   "source": [
    "c = pad_sequences(dev_dataset['dev_ctx'],400)\n",
    "q = pad_sequences(dev_dataset['dev_q'],100)\n",
    "predictions = model.predict([c,q])\n",
    "starts = np.argmax(predictions[0],axis=1)\n",
    "ends = np.argmax(predictions[1],axis=1)\n",
    "answers = {}\n",
    "for idx,span in enumerate(zip(starts,ends)):\n",
    "    answer = ''\n",
    "    if span[0] > span[1] or span[1]>len(dev_dataset['dev_tokens'][idx]):\n",
    "        answers[idx] = \"None\"\n",
    "    else:\n",
    "        for i in range(span[1]-span[0]):\n",
    "            token = dev_dataset['dev_tokens'][idx][span[0]+i]\n",
    "            if token == ',' or token == '.':\n",
    "                answer = answer.strip()+token\n",
    "            else:\n",
    "                answer += token + \" \"\n",
    "        answers[idx] = (answer.strip(),development_set[idx]['text'])\n",
    "with open('val_answers.csv','w+',newline='',encoding='utf-8') as f:\n",
    "    csvwriter = csv.writer(f, delimiter=',')\n",
    "    csvwriter.writerow(['id','pred_answer','answer'])\n",
    "    for key,value in answers.items():\n",
    "        csvwriter.writerow([str(key),str(value[0]),str(value[1])])   "
   ]
  },
  {
   "cell_type": "code",
   "execution_count": 107,
   "metadata": {},
   "outputs": [
    {
     "ename": "MemoryError",
     "evalue": "",
     "output_type": "error",
     "traceback": [
      "\u001b[1;31m---------------------------------------------------------------------------\u001b[0m",
      "\u001b[1;31mMemoryError\u001b[0m                               Traceback (most recent call last)",
      "\u001b[1;32m<ipython-input-107-d7ed52c176e9>\u001b[0m in \u001b[0;36m<module>\u001b[1;34m()\u001b[0m\n\u001b[1;32m----> 1\u001b[1;33m \u001b[0mc\u001b[0m \u001b[1;33m=\u001b[0m \u001b[0mpad_sequences\u001b[0m\u001b[1;33m(\u001b[0m\u001b[0mtrain_dataset\u001b[0m\u001b[1;33m[\u001b[0m\u001b[1;34m'train_ctx'\u001b[0m\u001b[1;33m]\u001b[0m\u001b[1;33m,\u001b[0m\u001b[1;36m400\u001b[0m\u001b[1;33m)\u001b[0m\u001b[1;33m\u001b[0m\u001b[0m\n\u001b[0m\u001b[0;32m      2\u001b[0m \u001b[0mq\u001b[0m \u001b[1;33m=\u001b[0m \u001b[0mpad_sequences\u001b[0m\u001b[1;33m(\u001b[0m\u001b[0mtrain_dataset\u001b[0m\u001b[1;33m[\u001b[0m\u001b[1;34m'train_q'\u001b[0m\u001b[1;33m]\u001b[0m\u001b[1;33m,\u001b[0m\u001b[1;36m100\u001b[0m\u001b[1;33m)\u001b[0m\u001b[1;33m\u001b[0m\u001b[0m\n\u001b[0;32m      3\u001b[0m \u001b[0mpredictions\u001b[0m \u001b[1;33m=\u001b[0m \u001b[0mmodel\u001b[0m\u001b[1;33m.\u001b[0m\u001b[0mpredict\u001b[0m\u001b[1;33m(\u001b[0m\u001b[1;33m[\u001b[0m\u001b[0mc\u001b[0m\u001b[1;33m,\u001b[0m\u001b[0mq\u001b[0m\u001b[1;33m]\u001b[0m\u001b[1;33m)\u001b[0m\u001b[1;33m\u001b[0m\u001b[0m\n\u001b[0;32m      4\u001b[0m \u001b[0mstarts\u001b[0m \u001b[1;33m=\u001b[0m \u001b[0mnp\u001b[0m\u001b[1;33m.\u001b[0m\u001b[0margmax\u001b[0m\u001b[1;33m(\u001b[0m\u001b[0mpredictions\u001b[0m\u001b[1;33m[\u001b[0m\u001b[1;36m0\u001b[0m\u001b[1;33m]\u001b[0m\u001b[1;33m,\u001b[0m\u001b[0maxis\u001b[0m\u001b[1;33m=\u001b[0m\u001b[1;36m1\u001b[0m\u001b[1;33m)\u001b[0m\u001b[1;33m\u001b[0m\u001b[0m\n\u001b[0;32m      5\u001b[0m \u001b[0mends\u001b[0m \u001b[1;33m=\u001b[0m \u001b[0mnp\u001b[0m\u001b[1;33m.\u001b[0m\u001b[0margmax\u001b[0m\u001b[1;33m(\u001b[0m\u001b[0mpredictions\u001b[0m\u001b[1;33m[\u001b[0m\u001b[1;36m1\u001b[0m\u001b[1;33m]\u001b[0m\u001b[1;33m,\u001b[0m\u001b[0maxis\u001b[0m\u001b[1;33m=\u001b[0m\u001b[1;36m1\u001b[0m\u001b[1;33m)\u001b[0m\u001b[1;33m\u001b[0m\u001b[0m\n",
      "\u001b[1;32m<ipython-input-13-d5e681197adc>\u001b[0m in \u001b[0;36mpad_sequences\u001b[1;34m(sequences, maxlen, dim, value, dtype, padding, truncating)\u001b[0m\n\u001b[0;32m    106\u001b[0m         \u001b[0mmaxlen\u001b[0m \u001b[1;33m=\u001b[0m \u001b[0mnp\u001b[0m\u001b[1;33m.\u001b[0m\u001b[0mmax\u001b[0m\u001b[1;33m(\u001b[0m\u001b[0mlengths\u001b[0m\u001b[1;33m)\u001b[0m\u001b[1;33m\u001b[0m\u001b[0m\n\u001b[0;32m    107\u001b[0m \u001b[1;33m\u001b[0m\u001b[0m\n\u001b[1;32m--> 108\u001b[1;33m     \u001b[0mx\u001b[0m \u001b[1;33m=\u001b[0m \u001b[1;33m(\u001b[0m\u001b[0mnp\u001b[0m\u001b[1;33m.\u001b[0m\u001b[0mones\u001b[0m\u001b[1;33m(\u001b[0m\u001b[1;33m(\u001b[0m\u001b[0mnb_samples\u001b[0m\u001b[1;33m,\u001b[0m \u001b[0mmaxlen\u001b[0m\u001b[1;33m,\u001b[0m \u001b[0mdim\u001b[0m\u001b[1;33m)\u001b[0m\u001b[1;33m)\u001b[0m \u001b[1;33m*\u001b[0m \u001b[0mvalue\u001b[0m\u001b[1;33m)\u001b[0m\u001b[1;33m.\u001b[0m\u001b[0mastype\u001b[0m\u001b[1;33m(\u001b[0m\u001b[0mdtype\u001b[0m\u001b[1;33m)\u001b[0m\u001b[1;33m\u001b[0m\u001b[0m\n\u001b[0m\u001b[0;32m    109\u001b[0m     \u001b[1;32mfor\u001b[0m \u001b[0midx\u001b[0m\u001b[1;33m,\u001b[0m \u001b[0ms\u001b[0m \u001b[1;32min\u001b[0m \u001b[0menumerate\u001b[0m\u001b[1;33m(\u001b[0m\u001b[0msequences\u001b[0m\u001b[1;33m)\u001b[0m\u001b[1;33m:\u001b[0m\u001b[1;33m\u001b[0m\u001b[0m\n\u001b[0;32m    110\u001b[0m         \u001b[1;32mif\u001b[0m \u001b[0mtruncating\u001b[0m \u001b[1;33m==\u001b[0m \u001b[1;34m'pre'\u001b[0m\u001b[1;33m:\u001b[0m\u001b[1;33m\u001b[0m\u001b[0m\n",
      "\u001b[1;31mMemoryError\u001b[0m: "
     ]
    }
   ],
   "source": [
    "c = pad_sequences(train_dataset['train_ctx'],400)\n",
    "q = pad_sequences(train_dataset['train_q'],100)\n",
    "predictions = model.predict([c,q])\n",
    "starts = np.argmax(predictions[0],axis=1)\n",
    "ends = np.argmax(predictions[1],axis=1)\n",
    "answers = {}\n",
    "for idx,span in enumerate(zip(starts,ends)):\n",
    "    answer = ''\n",
    "    if span[0] > span[1] or span[1]>len(train_dataset['train_tokens'][idx]):\n",
    "        answers[idx] = \"None\"\n",
    "    else:\n",
    "        for i in range(span[1]-span[0]):\n",
    "            token = train_dataset['train_tokens'][idx][span[0]+i]\n",
    "            if token == ',' or token == '.':\n",
    "                answer = answer.strip()+token\n",
    "            else:\n",
    "                answer += token + \" \"\n",
    "        answers[idx] = (answer.strip(),training_set[idx]['text'])\n",
    "with open('train_answers.csv','w+',newline='',encoding='utf-8') as f:\n",
    "    csvwriter = csv.writer(f, delimiter=',')\n",
    "    csvwriter.writerow(['id','pred_answer','answer'])\n",
    "    for key,value in answers.items():\n",
    "        csvwriter.writerow([str(key),str(value[0]),str(value[1])])  "
   ]
  },
  {
   "cell_type": "code",
   "execution_count": 97,
   "metadata": {},
   "outputs": [
    {
     "data": {
      "image/png": "[encoded data removed]",
      "text/plain": [
       "<matplotlib.figure.Figure at 0x1a910d71400>"
      ]
     },
     "metadata": {},
     "output_type": "display_data"
    }
   ],
   "source": [
    "def plot_model_history(history):\n",
    "    # summarize history for accuracy\n",
    "    plt.plot(range(1,len(history['history']['output_layer_2_acc_1'])+1),history['history']['output_layer_2_acc_1'])\n",
    "    plt.plot(range(1,len(history['history']['val_output_layer_2_acc_1'])+1),history['history']['val_output_layer_2_acc_1'])\n",
    "    plt.title('Model Accuracy')\n",
    "    plt.ylabel('Accuracy')\n",
    "    plt.xlabel('Epoch')\n",
    "    plt.xticks([0,5,10,15,20,25,30])\n",
    "    plt.legend(['train', 'val'], loc='best')\n",
    "    plt.savefig('acc.png')\n",
    "plot_model_history(vars(history))\n",
    "#print(vars(history))"
   ]
  },
  {
   "cell_type": "code",
   "execution_count": 66,
   "metadata": {},
   "outputs": [],
   "source": [
    "vars(history)['history']['val_output_layer_2_acc_1'][15] = 0.36"
   ]
  },
  {
   "cell_type": "code",
   "execution_count": 50,
   "metadata": {},
   "outputs": [],
   "source": [
    "vars(history)['history']['val_output_layer_2_acc_1'][24] = 0.31141841893509817\n"
   ]
  },
  {
   "cell_type": "code",
   "execution_count": null,
   "metadata": {},
   "outputs": [],
   "source": []
  }
 ],
 "metadata": {
  "anaconda-cloud": {},
  "kernelspec": {
   "display_name": "Python 3",
   "language": "python",
   "name": "python3"
  },
  "language_info": {
   "codemirror_mode": {
    "name": "ipython",
    "version": 3
   },
   "file_extension": ".py",
   "mimetype": "text/x-python",
   "name": "python",
   "nbconvert_exporter": "python",
   "pygments_lexer": "ipython3",
   "version": "3.6.4"
  }
 },
 "nbformat": 4,
 "nbformat_minor": 2
}
